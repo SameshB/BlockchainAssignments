{
 "cells": [
  {
   "cell_type": "markdown",
   "id": "63f3dfa8-aaea-494c-8e92-55affa29f44d",
   "metadata": {
    "jp-MarkdownHeadingCollapsed": true,
    "tags": []
   },
   "source": [
    "# Testnet Environment\n",
    "To use the testnet environment all the data in the blockchain should be synced first. This required more then 7 gigabits of storage\n",
    "and syncing takes a lot of time. After all the data is synced we can receive bitcoins from different faucets. Now we can make transactions\n",
    "in the real world testnet. "
   ]
  },
  {
   "cell_type": "code",
   "execution_count": 59,
   "id": "0aafff46-4ed7-4a91-ac5c-4cd15d6308f3",
   "metadata": {
    "tags": []
   },
   "outputs": [
    {
     "name": "stdout",
     "output_type": "stream",
     "text": [
      "Bitcoin Core stopping\n"
     ]
    }
   ],
   "source": [
    "!bitcoin-cli --testnet stop\n"
   ]
  },
  {
   "cell_type": "code",
   "execution_count": 60,
   "id": "13428abd-295f-4140-8cb4-37039724ebb2",
   "metadata": {
    "tags": []
   },
   "outputs": [
    {
     "name": "stdout",
     "output_type": "stream",
     "text": [
      "Bitcoin Core starting\n"
     ]
    }
   ],
   "source": [
    "!bitcoind --testnet -daemon"
   ]
  },
  {
   "cell_type": "code",
   "execution_count": 54,
   "id": "baa3f86c-1e2c-4111-a69f-cb271f501c91",
   "metadata": {
    "tags": []
   },
   "outputs": [
    {
     "name": "stdout",
     "output_type": "stream",
     "text": [
      "error: timeout on transient error: Could not connect to the server 127.0.0.1:8332\n",
      "\n",
      "Make sure the bitcoind server is running and that you are connecting to the correct RPC port.\n"
     ]
    }
   ],
   "source": [
    "# !bitcoin-cli --testnet createwallet \"buddha\" true\n",
    "Already created"
   ]
  },
  {
   "cell_type": "code",
   "execution_count": 61,
   "id": "a7e2a47f-ed52-4e57-9c2d-cb961802e6a9",
   "metadata": {
    "tags": []
   },
   "outputs": [
    {
     "name": "stdout",
     "output_type": "stream",
     "text": [
      "{\n",
      "  \"walletname\": \"buddha\",\n",
      "  \"walletversion\": 169900,\n",
      "  \"format\": \"bdb\",\n",
      "  \"balance\": 0.00010923,\n",
      "  \"unconfirmed_balance\": 0.00000000,\n",
      "  \"immature_balance\": 0.00000000,\n",
      "  \"txcount\": 10,\n",
      "  \"keypoololdest\": 1676096810,\n",
      "  \"keypoolsize\": 1000,\n",
      "  \"hdseedid\": \"8a2992c32fdc893d41ab7b7aa8122b9aa14bbf6d\",\n",
      "  \"keypoolsize_hd_internal\": 1000,\n",
      "  \"paytxfee\": 0.00000000,\n",
      "  \"private_keys_enabled\": true,\n",
      "  \"avoid_reuse\": false,\n",
      "  \"scanning\": false,\n",
      "  \"descriptors\": false\n",
      "}\n"
     ]
    }
   ],
   "source": [
    "!bitcoin-cli --testnet -rpcwallet=buddha getwalletinfo\n"
   ]
  },
  {
   "cell_type": "code",
   "execution_count": 62,
   "id": "d786abad-9865-455e-a1f7-5e5070148a5c",
   "metadata": {
    "tags": []
   },
   "outputs": [
    {
     "name": "stdout",
     "output_type": "stream",
     "text": [
      "{\n",
      "  \"blocks\": 2420359,\n",
      "  \"difficulty\": 1,\n",
      "  \"networkhashps\": 535656617311599.6,\n",
      "  \"pooledtx\": 62,\n",
      "  \"chain\": \"test\",\n",
      "  \"warnings\": \"\"\n",
      "}\n"
     ]
    }
   ],
   "source": [
    "!bitcoin-cli -testnet -rpcwallet=buddha getmininginfo\n"
   ]
  },
  {
   "cell_type": "code",
   "execution_count": 63,
   "id": "f1e5cc8d-02b9-4fab-872f-ee6413e5c466",
   "metadata": {
    "tags": []
   },
   "outputs": [
    {
     "name": "stdout",
     "output_type": "stream",
     "text": [
      "{\n",
      "  \"version\": 220000,\n",
      "  \"blocks\": 2420359,\n",
      "  \"headers\": 2420359,\n",
      "  \"verificationprogress\": 0.9999985921570106,\n",
      "  \"timeoffset\": 0,\n",
      "  \"connections\": {\n",
      "    \"in\": 0,\n",
      "    \"out\": 10,\n",
      "    \"total\": 10\n",
      "  },\n",
      "  \"proxy\": \"\",\n",
      "  \"difficulty\": 1,\n",
      "  \"chain\": \"test\",\n",
      "  \"relayfee\": 0.00001000,\n",
      "  \"warnings\": \"\",\n",
      "  \"balances\": {\n",
      "    \"buddha\": 0.00010923,\n",
      "    \"isha\": 0.00000900\n",
      "  }\n",
      "}\n"
     ]
    }
   ],
   "source": [
    "!bitcoin-cli -testnet -getinfo"
   ]
  },
  {
   "cell_type": "code",
   "execution_count": 64,
   "id": "4e339588-6a15-40e2-8040-116856e73479",
   "metadata": {
    "tags": []
   },
   "outputs": [
    {
     "name": "stdout",
     "output_type": "stream",
     "text": [
      "{\n",
      "  \"version\": 220000,\n",
      "  \"subversion\": \"/Satoshi:22.0.0/\",\n",
      "  \"protocolversion\": 70016,\n",
      "  \"localservices\": \"0000000000000409\",\n",
      "  \"localservicesnames\": [\n",
      "    \"NETWORK\",\n",
      "    \"WITNESS\",\n",
      "    \"NETWORK_LIMITED\"\n",
      "  ],\n",
      "  \"localrelay\": true,\n",
      "  \"timeoffset\": 0,\n",
      "  \"networkactive\": true,\n",
      "  \"connections\": 10,\n",
      "  \"connections_in\": 0,\n",
      "  \"connections_out\": 10,\n",
      "  \"networks\": [\n",
      "    {\n",
      "      \"name\": \"ipv4\",\n",
      "      \"limited\": false,\n",
      "      \"reachable\": true,\n",
      "      \"proxy\": \"\",\n",
      "      \"proxy_randomize_credentials\": false\n",
      "    },\n",
      "    {\n",
      "      \"name\": \"ipv6\",\n",
      "      \"limited\": false,\n",
      "      \"reachable\": true,\n",
      "      \"proxy\": \"\",\n",
      "      \"proxy_randomize_credentials\": false\n",
      "    },\n",
      "    {\n",
      "      \"name\": \"onion\",\n",
      "      \"limited\": true,\n",
      "      \"reachable\": false,\n",
      "      \"proxy\": \"\",\n",
      "      \"proxy_randomize_credentials\": false\n",
      "    },\n",
      "    {\n",
      "      \"name\": \"i2p\",\n",
      "      \"limited\": true,\n",
      "      \"reachable\": false,\n",
      "      \"proxy\": \"\",\n",
      "      \"proxy_randomize_credentials\": false\n",
      "    }\n",
      "  ],\n",
      "  \"relayfee\": 0.00001000,\n",
      "  \"incrementalfee\": 0.00001000,\n",
      "  \"localaddresses\": [\n",
      "  ],\n",
      "  \"warnings\": \"\"\n",
      "}\n"
     ]
    }
   ],
   "source": [
    "!bitcoin-cli --testnet getnetworkinfo"
   ]
  },
  {
   "cell_type": "code",
   "execution_count": 38,
   "id": "2ca28b92-421d-43eb-8a90-7b2144f914b8",
   "metadata": {
    "tags": []
   },
   "outputs": [
    {
     "name": "stdout",
     "output_type": "stream",
     "text": [
      "error code: -5\n",
      "error message:\n",
      "Invalid Bitcoin address\n"
     ]
    }
   ],
   "source": [
    "!bitcoin-cli --testnet -rpcwallet=isha dumpprivkey \"Add your public key here. generate it with getnewaddress\" "
   ]
  },
  {
   "cell_type": "code",
   "execution_count": 65,
   "id": "dd6a94c7-ddd4-4882-87c9-74b5ff1fd36b",
   "metadata": {
    "tags": []
   },
   "outputs": [
    {
     "name": "stdout",
     "output_type": "stream",
     "text": [
      "0.00010923\n"
     ]
    }
   ],
   "source": [
    "!bitcoin-cli --testnet -rpcwallet=buddha getbalance \n"
   ]
  },
  {
   "cell_type": "markdown",
   "id": "cc6adfca-b373-4ff7-9112-244504cff249",
   "metadata": {
    "tags": []
   },
   "source": [
    "## Signing a message using private key"
   ]
  },
  {
   "cell_type": "code",
   "execution_count": 30,
   "id": "70f5dc72-0c12-4367-a910-f3182e5c3f13",
   "metadata": {
    "tags": []
   },
   "outputs": [
    {
     "name": "stdout",
     "output_type": "stream",
     "text": [
      "mpkpVJypDtL3yrTCjHpJLJTp4aBU7BBkZc\n"
     ]
    }
   ],
   "source": [
    "!bitcoin-cli -testnet -rpcwallet=buddha getnewaddress -addresstype legacy"
   ]
  },
  {
   "cell_type": "code",
   "execution_count": 32,
   "id": "6ecab202-4d43-4513-ab66-4ff45da85edf",
   "metadata": {
    "tags": []
   },
   "outputs": [
    {
     "name": "stdout",
     "output_type": "stream",
     "text": [
      "H1YNHo9xcyDqjxhKWCdWf1wEVrNTSJzoSgu09p9V3pahaJ+1FUxKFM3zhDOi/1FEnJ8KK/v3+4uaHX8Fwm2ohpA=\n"
     ]
    }
   ],
   "source": [
    "!bitcoin-cli -testnet -rpcwallet=buddha signmessage \"mpkpVJypDtL3yrTCjHpJLJTp4aBU7BBkZc\" \"hey there\""
   ]
  },
  {
   "cell_type": "markdown",
   "id": "c87ce464-7ede-4fe1-861d-4451874ea8a1",
   "metadata": {
    "tags": []
   },
   "source": [
    "## Here isha verifies the signed message using buddha's public key "
   ]
  },
  {
   "cell_type": "code",
   "execution_count": 34,
   "id": "d4461613-319f-4abc-8983-9da561958b69",
   "metadata": {
    "tags": []
   },
   "outputs": [
    {
     "name": "stdout",
     "output_type": "stream",
     "text": [
      "true\n"
     ]
    }
   ],
   "source": [
    "!bitcoin-cli --testnet -rpcwallet=isha verifymessage \"mpkpVJypDtL3yrTCjHpJLJTp4aBU7BBkZc\"\\\n",
    " \"H1YNHo9xcyDqjxhKWCdWf1wEVrNTSJzoSgu09p9V3pahaJ+1FUxKFM3zhDOi/1FEnJ8KK/v3+4uaHX8Fwm2ohpA=\"\\\n",
    " \"hey there\" "
   ]
  },
  {
   "cell_type": "markdown",
   "id": "4dccf718-e332-49c9-aedf-a51718d5db39",
   "metadata": {},
   "source": [
    "## Check balance in buddha and isha before transaction"
   ]
  },
  {
   "cell_type": "code",
   "execution_count": 40,
   "id": "858a6699-62df-4ef3-acd9-03cf80abc6bf",
   "metadata": {
    "tags": []
   },
   "outputs": [
    {
     "name": "stdout",
     "output_type": "stream",
     "text": [
      "0.00000600\n"
     ]
    }
   ],
   "source": [
    "!bitcoin-cli --testnet -rpcwallet=isha getbalance"
   ]
  },
  {
   "cell_type": "code",
   "execution_count": 44,
   "id": "538c5fd3-bd0a-4cb1-b18c-ef8df48e01e4",
   "metadata": {
    "tags": []
   },
   "outputs": [
    {
     "name": "stdout",
     "output_type": "stream",
     "text": [
      "tb1qegam4z7vnpdmhv6c504288q7r30qclqgnxyhey\n"
     ]
    }
   ],
   "source": [
    "!bitcoin-cli --testnet -rpcwallet=isha getnewaddress"
   ]
  },
  {
   "cell_type": "markdown",
   "id": "eb97a16d-c02c-4751-b0d7-1a50a7c61d75",
   "metadata": {},
   "source": [
    "## Get test bitcoins from faucet"
   ]
  },
  {
   "cell_type": "code",
   "execution_count": 49,
   "id": "4aa1bf4c-8dd0-4ec9-a110-fb577fda52d7",
   "metadata": {
    "tags": []
   },
   "outputs": [
    {
     "name": "stdout",
     "output_type": "stream",
     "text": [
      "tb1q4k0nqngcjweq7tpl0aqwgr0u0qezg252z6xwxd\n"
     ]
    }
   ],
   "source": [
    "!bitcoin-cli --testnet -rpcwallet=buddha getnewaddress"
   ]
  },
  {
   "cell_type": "markdown",
   "id": "25867f0a-09ed-4d6a-af71-05da4a01830e",
   "metadata": {},
   "source": [
    "## Making a transaction to isha's public key"
   ]
  },
  {
   "cell_type": "code",
   "execution_count": 45,
   "id": "8b001136-3adc-4d7b-890e-3d44663b6298",
   "metadata": {
    "tags": []
   },
   "outputs": [
    {
     "name": "stdout",
     "output_type": "stream",
     "text": [
      "d1ce0f297c9fce23658d7c765d79fe2035e796c1d132f70c33f7e65f6d97c816\n"
     ]
    }
   ],
   "source": [
    "!bitcoin-cli --testnet --rpcwallet=buddha sendtoaddress tb1qegam4z7vnpdmhv6c504288q7r30qclqgnxyhey 0.000003"
   ]
  },
  {
   "cell_type": "markdown",
   "id": "a4756dc0-8557-4745-9722-33c9b8e5ceef",
   "metadata": {},
   "source": [
    "## Adding the transaction to a new block takes time. We can see the balance update on the isha wallet after a while"
   ]
  },
  {
   "cell_type": "code",
   "execution_count": 66,
   "id": "9084b61f-fa7f-48fa-b827-341126379f77",
   "metadata": {
    "tags": []
   },
   "outputs": [
    {
     "name": "stdout",
     "output_type": "stream",
     "text": [
      "0.00000900\n"
     ]
    }
   ],
   "source": [
    "!bitcoin-cli --testnet -rpcwallet=isha getbalance"
   ]
  },
  {
   "cell_type": "code",
   "execution_count": 67,
   "id": "d4ee75f7-7051-4961-9b69-a6d78423c6a9",
   "metadata": {
    "tags": []
   },
   "outputs": [
    {
     "name": "stdout",
     "output_type": "stream",
     "text": [
      "0.00010923\n"
     ]
    }
   ],
   "source": [
    "!bitcoin-cli --testnet -rpcwallet=buddha getbalance"
   ]
  },
  {
   "cell_type": "markdown",
   "id": "2e2576ab-38c6-41f2-8a28-f339f60fdc36",
   "metadata": {
    "jp-MarkdownHeadingCollapsed": true,
    "tags": []
   },
   "source": [
    "# REGTEST environment\n",
    "Regtest spawns a new bitcoin blockchain in a local environment. Since the genesis block has a reward of 50 btc. The wallet \n",
    "will be rewarded with 50 btc.  So testing and developing is much easier and faster with regtest. "
   ]
  },
  {
   "cell_type": "code",
   "execution_count": 39,
   "id": "fdbcc866-45bf-40af-a25f-0e2c7b5f0d3d",
   "metadata": {
    "tags": []
   },
   "outputs": [
    {
     "name": "stdout",
     "output_type": "stream",
     "text": [
      "Bitcoin Core starting\n"
     ]
    }
   ],
   "source": [
    "!bitcoind -regtest -daemon"
   ]
  },
  {
   "cell_type": "code",
   "execution_count": 38,
   "id": "5b85b3c0-11ac-4adf-8e2d-3bd1c2a905a9",
   "metadata": {
    "tags": []
   },
   "outputs": [
    {
     "name": "stdout",
     "output_type": "stream",
     "text": [
      "Bitcoin Core stopping\n"
     ]
    }
   ],
   "source": [
    "!bitcoin-cli -regtest stop"
   ]
  },
  {
   "cell_type": "code",
   "execution_count": 25,
   "id": "e1d32f37-8b45-47a9-9497-03e14e86bf99",
   "metadata": {
    "tags": []
   },
   "outputs": [
    {
     "name": "stdout",
     "output_type": "stream",
     "text": [
      "{\n",
      "  \"name\": \"\",\n",
      "  \"warning\": \"\"\n",
      "}\n"
     ]
    }
   ],
   "source": [
    "!bitcoin-cli -regtest -named createwallet wallet_name=\"\" descriptors=false"
   ]
  },
  {
   "cell_type": "code",
   "execution_count": 8,
   "id": "3e1470cb-27fd-4ce7-a5e0-94d1f91a9947",
   "metadata": {
    "tags": []
   },
   "outputs": [
    {
     "name": "stdout",
     "output_type": "stream",
     "text": [
      "error: timeout on transient error: Could not connect to the server 127.0.0.1:18443\n",
      "\n",
      "Make sure the bitcoind server is running and that you are connecting to the correct RPC port.\n"
     ]
    }
   ],
   "source": [
    "!bitcoin-cli -regtest getnewaddress "
   ]
  },
  {
   "cell_type": "code",
   "execution_count": 42,
   "id": "b9380cdc-97ed-4d19-844e-0cf2e155be0d",
   "metadata": {
    "tags": []
   },
   "outputs": [
    {
     "name": "stdout",
     "output_type": "stream",
     "text": [
      "[\n",
      "  \"00fe3dec505f738c928a9df1fa3c432cb591dfc18de4a9f9637deac7d2127977\",\n",
      "  \"086a791a473bacde81e16d34bbd3ed7dfaf6cae0d13190d657905a67f55eb6f3\",\n",
      "  \"7dafa2b2023513db4ace4cf86c231fae8f95436db218bddb82141d0eb2cb7c66\",\n",
      "  \"7ce870b1ec4a098bfaac0fe3e996e6c18d72070cdd9c811bd83c2d42a29a1143\",\n",
      "  \"6a4fff2df05f6057324683c9681d20df3d5215cc703e17053a33fa2a164fa196\",\n",
      "  \"0322585a24bc31361cb22ca2d23dbfce6f43c1112d9f67e4af89c01190afaa73\",\n",
      "  \"4abbdb590df636b8d17a69b44b90f307274159fbf4731106e9a455a59a3e1c5d\",\n",
      "  \"379579b5c72dd70f0014382c02ad672cb489366c3b415dcb0df12b8ffd1898f7\",\n",
      "  \"142de76bc6d962d112bb6a0a910eff57599c64dcf0ffc44b4778fdbbf6e67a6d\",\n",
      "  \"03e9bbb332b6b8634cd5e45f7aeb826e215f72ae321383c08035f56900098748\",\n",
      "  \"5b63d7a66e01629e42774f2dc43eb2777acd5ab9edc3dd92854a9e5263c01091\",\n",
      "  \"08af444b0c6c0b99ca35249759fbb1ff7cbcc4aaa33f4319f7937a03b107fec4\",\n",
      "  \"437e7e91cdba723603d9eb2352918bc9c0ed6a0e1e2eea44405f66e80aeb0d40\",\n",
      "  \"71f57f24bd759d39561a6372a5f0730a017af5b76fe9822a956382c257223286\",\n",
      "  \"7e761fbe49f8ebea1300414201166a03c232c65fad0dd6bd00340c106f6a9863\",\n",
      "  \"13ee0e324102c69dd9872e89a353160818a87474288f14f4d3e68b3c426fc2cf\",\n",
      "  \"2cf2601c11416ec50c6af044a49c3c1d5a18b75cd9fec6d98595e45104f232f8\",\n",
      "  \"59a05eca79d393f28388dcddf0cac1a8e3b731c0e38099d6b14785e66057d7b1\",\n",
      "  \"0130fc6368144535787124a12a3a1a6b8411703f0304994dd6fd470afd4207e6\",\n",
      "  \"7775c108c48b96db6341a419fbf6b845b8d55bee58c64e7c8aa1803dc718ec18\",\n",
      "  \"05e8d229e1a48fa27849cfc02ca8d537e88bde17b1d9cd7df00f8522bff9a7e6\",\n",
      "  \"467f62d682d503082383f46327c5373a58a8d31ea4b96e1dab8c98aaab1a3a70\",\n",
      "  \"691d2b09db8fb69473343c5615db6dd9322167be2ecc547b034a45e5e7d09bc8\",\n",
      "  \"276721a45f48488d78dd5a3f182b81226e5b8b7d2ec9e6b841f81fbe2f947722\",\n",
      "  \"5799f48dc15a6828ce1f7be5ab0c0625b4d16f95869d94f4c52a9c277e2ac1b0\",\n",
      "  \"32741808f3f1ec9ee3d3a3ff8d33ca3182a21d5935354bcec038b8d35b1765ba\",\n",
      "  \"4c803b84c9023968f9ba8b6d55a2da2008432ff21a143c3c817934bb4d957848\",\n",
      "  \"2521a33a18fea12819372f6322b09ef05ed9af786e3f8b03f7d3ded39b1c9b98\",\n",
      "  \"044937f2806e4872c059cc3cfec2b1541f6a91b4d389251f3c9fa448627d1129\",\n",
      "  \"6e197b5075788a2931044498cae761748e209cc49240494629b67c012c55ea9a\",\n",
      "  \"061b5da792af09ac6ef5eefedde81702908305bab0c4c2f685a62a16d294c992\",\n",
      "  \"7dd419d2a7dadee4599ca5434294f4f5c5c030036d28aee66012452a321cd8d1\",\n",
      "  \"1f6bd4d134b27941448cf5441212eb6a824f81bf31ccf2b6da6e0b0fbda9d287\",\n",
      "  \"68ab195dc8839fbfd70b1da17925a600c4ccce5d65f5d026e997f6a53d96dd68\",\n",
      "  \"72f4d8a94af49f5a9bae0ffed152f1a74a05ee995882794721e59d41de5f6bf0\",\n",
      "  \"3df14cfad0173340afb2fcfa2d884da6b671557b8c80c6a3376dd34e6ba63fa3\",\n",
      "  \"5fe301baa368d07553cdd33258de661672f623ce0325a832ee6473b2d73ed687\",\n",
      "  \"2dfac0c412af56101f9ce44dcaafef5f464257446804fa49b2eacec32781297d\",\n",
      "  \"0c46275e85895d8858413143a76780ac9d732ba92e0fda6a61d3807f2dc1089b\",\n",
      "  \"652e6dc476c23a79b4ad92effe4e150a0350cf1ca19e731a846e2d4609dbdf63\",\n",
      "  \"289d7d1b7a310c5866fb555a20960b7d0eb7ac5e66f08baa464f0b0526aa7c0a\",\n",
      "  \"006fe26ef1d6b5ba1ea549108e53f1aae8a8cf8e59872a630c76f84fa57c7d7e\",\n",
      "  \"3529335ebee7e6c8b79bdd1aa26a2c64350edc06f3cd32746cd0eef40072ce7a\",\n",
      "  \"38f36c1ec0864b81a83c5deac641dfd3dafb319b58dc9fc2cd5be8608ecd68da\",\n",
      "  \"1011cb7589b234babfbc77bf345a14d3c3ac2cf495e01ecf3001d4f0737eb9ab\",\n",
      "  \"6ee370aad4e0053ab0f6cf1191c9af4c24a20d3d3dec51c4df963228294c8089\",\n",
      "  \"354ed46babe9cd6b6454e1c7600cb9cbbeb301bcd4c095772eb14ecd2056b17d\",\n",
      "  \"7e1cbd8f297afc1ca9672454e18a79606f5e9220354f3afda8e365cd38f08dfc\",\n",
      "  \"18b9db57defc8ee07643b5724664e843cb64a45f03d508b535886cd9ab07a37c\",\n",
      "  \"38377d7bba06b04064a749a4f21c5f428aa5c83067f68b588e3098914b27d2eb\",\n",
      "  \"26115c7ef17e05aa3e34117b9ee05da89def112927a5eeb813396439dd2c5d54\",\n",
      "  \"6b658a81c7405dbdc7e653b416b067a92c22fc445b3cf6f530fb7fe3db6df572\",\n",
      "  \"6deca3ad149b0c43f5a20a55d192f5bb70c48d97527ce993e18cc2e923eb90d4\",\n",
      "  \"5269de667943756d4666210894719555585713e3389d6eff615bcd8c0110c44c\",\n",
      "  \"313529d9fb52739d7b46165616bac0545b40a5075c141176ed421d20dbe55aac\",\n",
      "  \"6853807a2c5f02e145a728f279afbd137fb87a9a6926863871dc5bac81aa1f4e\",\n",
      "  \"37bae2b1fcef5c27ae63f24e8a68e0bb28ec6ddcdfa5039ea4ba603d0ce9b8ef\",\n",
      "  \"61a1ddb312625abfbddea8cbffa000cef4fa40e7ea61778806fb9acf8545e3ad\",\n",
      "  \"6dc09d3005a10aaf6b2cbaf11984836e8bbfeae03d6d71c3c41529baa0114e8d\",\n",
      "  \"70cfb7c6778a2df7c83449b91ab7c89b033a04a31cf774c37b3f3bdc4b5fe0a4\",\n",
      "  \"5964e79fb3a476e91d1dfe644ab2b7d250ef38d704456efe112e7b6af9e3da7c\",\n",
      "  \"2ca55c1d74b00c8861ca0a8fe1abb3947bf005c0f71c252f98fd5d06d0557d9a\",\n",
      "  \"111019b3be65e4f36ffa3c33a91af817106fbd4465c9588498c36f220a57e4a9\",\n",
      "  \"0f968cae5b918e564864858001f4e07800ceeca1cbfc4c4237ae8026fc8b3113\",\n",
      "  \"0165e952b0c15d91621a98aa6748f833f5d5a3c6ba4f1f9008dd58de9c77d7a4\",\n",
      "  \"1784e25bf30c0ffaf57c4380e69e417bac1940f058cf100352b2dea1bccc922e\",\n",
      "  \"1b1dd4dfa667a2657f56520dd0a0149a18f86d8df7360e708432a2290ec15e3f\",\n",
      "  \"1879f927116032d7032849a04b478e3ce3738dd8f9a6ad426af0ec5515273a93\",\n",
      "  \"14ad14b0934641b3c6a65d978b30ecfe8ecc4799dab6b875b8b59b568f569bd2\",\n",
      "  \"2c8c35a8b1744457f18b8577f4b2f94bb11121473144c6076806230d07e0a488\",\n",
      "  \"7c628eaab60bafcc0447878854242fc9f7b559d3f491c4991a21cea2ac23a45f\",\n",
      "  \"272cc096cec6b8d386c665019a18b917b820afda034c05a35e9d2a0747316f6a\",\n",
      "  \"0384d45b097acafde112a648c2aa992fadf50f69e5bb608e3edb37070026d99f\",\n",
      "  \"39a55c72ed149647aa4543d36cb0b0dec93b448c1481af5ffa1d4b38904af9d2\",\n",
      "  \"6852d75878582055ce545f57020e7695dfb3c5342bc256833e709c18f67541d7\",\n",
      "  \"4afea279daec6ea752367b05a95942b88dfa18bcf3d171c081fcac08c4e6d5ef\",\n",
      "  \"14d5e344ad7232c57a0f95631e9a54e573d98b266934d08e6bc76a60a8c5d36c\",\n",
      "  \"2891001a895e6ce540c8e397d820695ca2e5d3b97489a21a1428e6d8d1eba133\",\n",
      "  \"796f2389c760f1c32eef30a5c263689a29effeee5c36b25198340914934159f5\",\n",
      "  \"6d6acc10c6e1b22afe17a37d5d07c41f95aa6cdccff31aa7d2a3dc360bf44a0b\",\n",
      "  \"12c5273cc62c6bf9d751d5663d3dcec56d8263d3b3e54dba08a40a78321da7df\",\n",
      "  \"758430331332ccb77b2bb487e665cc6dcddff0c0e325e94864528157ac6bb318\",\n",
      "  \"43200ebb3d3775250cdac4f182e1a3e240508fd11b109a2f3488b34dcb8820dd\",\n",
      "  \"1c5e9a2887c7c121373bb79687412073248bb1f40faa67731227f2c129149b09\",\n",
      "  \"464ebd2888409f994e1a2b3443b0c4f1519736ec33ded7485c6fd55abbf1f45e\",\n",
      "  \"71b51b06846248df1befe4fbdb9c01f5eb2d7b55dad295fa88b48826cc2f0ef8\",\n",
      "  \"5f1b2d921ca4325b7f630a2c3680ec5e9a23ad9c02492308bb6396814c2d785f\",\n",
      "  \"0bbb2f721f85eb63f9ca509877645abf3ab4e2570e72396c65201636eef6d812\",\n",
      "  \"513ce91d3dd0244ebd8ef42506f34b92210ffeeef148d19f27d8a561ae160346\",\n",
      "  \"49fab2a1c56071e1017eca9903543ad1d521c49352e25edfe28339ed10358a88\",\n",
      "  \"5c231821d20e02b00e3528fab19addcb646383d4e610efe84d7bb04fba21c8ce\",\n",
      "  \"73373e5f1f719c9473272c5ad4e9c0ac00bd7968eb918495449c25075a955bb3\",\n",
      "  \"0ec83cbf7f83e2f8654df4e54264e73005277e684f462afe4dccf16b491f42a8\",\n",
      "  \"67d9eda5eeefc0cd7f65b7dac790ad1f7d5ca8a71beb3d2a1c7d12135dd179c7\",\n",
      "  \"4c2e0793efd10535de51dd5125c7fe59e8d291f7dbe41a2684c2b5d660bc75bb\",\n",
      "  \"2a1bd5609dab1b79f5ad4c93348acb774e0061e7dc9ffb564de57210706c2f90\",\n",
      "  \"3795cd51310324918ec5b5ae81c778a1ff0f85b376e9c4795283736ee6611830\",\n",
      "  \"6d424a2d22eec930f48ed7410ca6361a9a49b2fdf6f456258ac67457de53454f\",\n",
      "  \"6ce065235051f1942c3f51f1a73cd583f3bbecc3dac94d56347c1a1ee70f7b70\",\n",
      "  \"297ce100312a0326767c408d30148c6627504585a592c77be1f29a8dbb54eeea\",\n",
      "  \"3bf73aa7e5f36a58aeb23d5e46cba05f17ec554573bc03f780f41b11e6197b00\"\n",
      "]\n"
     ]
    }
   ],
   "source": [
    "!bitcoin-cli -regtest generatetoaddress 101 $(bitcoin-cli -regtest getnewaddress)\n"
   ]
  },
  {
   "cell_type": "code",
   "execution_count": 45,
   "id": "f52acd39-8dd2-4354-b30b-7ba7ad443735",
   "metadata": {
    "tags": []
   },
   "outputs": [
    {
     "name": "stdout",
     "output_type": "stream",
     "text": [
      "5100.00000000\n"
     ]
    }
   ],
   "source": [
    "!bitcoin-cli -regtest getbalance"
   ]
  },
  {
   "cell_type": "code",
   "execution_count": 9,
   "id": "99172265-2728-4fa4-9b4b-a4bbd38c9cd3",
   "metadata": {
    "tags": []
   },
   "outputs": [
    {
     "name": "stdout",
     "output_type": "stream",
     "text": [
      "error: timeout on transient error: Could not connect to the server 127.0.0.1:18443\n",
      "\n",
      "Make sure the bitcoind server is running and that you are connecting to the correct RPC port.\n"
     ]
    }
   ],
   "source": [
    "!bitcoin-cli -regtest getwalletinfo"
   ]
  }
 ],
 "metadata": {
  "kernelspec": {
   "display_name": "Python 3 (ipykernel)",
   "language": "python",
   "name": "python3"
  },
  "language_info": {
   "codemirror_mode": {
    "name": "ipython",
    "version": 3
   },
   "file_extension": ".py",
   "mimetype": "text/x-python",
   "name": "python",
   "nbconvert_exporter": "python",
   "pygments_lexer": "ipython3",
   "version": "3.10.9"
  }
 },
 "nbformat": 4,
 "nbformat_minor": 5
}

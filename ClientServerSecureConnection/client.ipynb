{
 "cells": [
  {
   "cell_type": "code",
   "execution_count": 1,
   "id": "961fb09e-715c-4865-b8be-b601b99b7501",
   "metadata": {},
   "outputs": [],
   "source": [
    "from Crypto.PublicKey import RSA\n",
    "from Crypto.Cipher import PKCS1_OAEP, AES\n",
    "from Crypto.Util.Padding import pad, unpad\n",
    "import urllib3\n",
    "import json\n",
    "import sys\n",
    "import base64\n",
    "import requests\n"
   ]
  },
  {
   "cell_type": "code",
   "execution_count": 2,
   "id": "1546a38c-ebf2-4fb0-9e08-62e8701b3278",
   "metadata": {},
   "outputs": [],
   "source": [
    "base_url = \"http://127.0.0.1:8000\""
   ]
  },
  {
   "cell_type": "code",
   "execution_count": 3,
   "id": "38cb7ec6-4381-40fb-9fe9-ce364c71b409",
   "metadata": {},
   "outputs": [
    {
     "name": "stdout",
     "output_type": "stream",
     "text": [
      "-----BEGIN PUBLIC KEY-----\n",
      "MIICIjANBgkqhkiG9w0BAQEFAAOCAg8AMIICCgKCAgEAjIPz3MwO7O2NSu3n1vrS\n",
      "g+F8L3hmLH+gsCM0pwvLQo8RGGw/01rtnAjrnOoFECmVHNEPJwE14286crxYySqQ\n",
      "KYp7g9fCl8X8fKalSRtmwOPT7qjd/drYxNdAhvYrvzBybjXvKw7bZz8XPbqChNyO\n",
      "3oPz+QZ52/BMiL4W+gtpzhSCQDfn5qVP6zrzy+yzVR38r9O25TZVmcuC5OUB9lQn\n",
      "qaJF2wHs4lgZOGJ967I5a4P50JOhLdFlEfjs2sWgngWXBINubEaR1LcBoyvwOszz\n",
      "j6ZWZdn/IUfCUYtbhCoTS29C5Eg6daM7+qDg7nNdHQp5TSBIiBRaUjXP3Jgbr2a0\n",
      "78rXBjbJJ53MrYCzGKJreovlKIR9CA7yo8EfMTKEXSiZkPq9wUOF6HmYvqXs1oBa\n",
      "qXjp33Nv6a79yvPuAEKg86Y3iyPqSCy4hA4W+nrh8g1ZJeta2JQfEE/hJUC1Xbf1\n",
      "AnQjjpgQ+BrYJZYO3UPv4mhuEmvdIS50uXBmHjM23HB7WhPopVcmeKniDOg85okh\n",
      "qjq5qQ4nNMnGhcq7eDdi81F8UzSPuCPSxwvL08Es0AV1U7HIGmEUyCTGP6fTyO5O\n",
      "U5CDC8b7SkrstNZ5Re7mp4Rksb/cWHbhOYXBdX00PeuAZHeyIp0JozG/Rvh9SSEH\n",
      "6HEYxb3eg+nkep9J0L4I8YMCAwEAAQ==\n",
      "-----END PUBLIC KEY-----\n"
     ]
    }
   ],
   "source": [
    "\n",
    "response = requests.get(f\"{base_url}/getKey\").json()\n",
    "server_public_key = response['public_key']\n",
    "\n",
    "print(response['public_key'])"
   ]
  },
  {
   "cell_type": "code",
   "execution_count": 4,
   "id": "85f9f357-1123-47c3-bc3c-2bb5fab6fddd",
   "metadata": {},
   "outputs": [],
   "source": [
    "key = RSA.generate(2048)"
   ]
  },
  {
   "cell_type": "code",
   "execution_count": 5,
   "id": "7991da0f-20aa-465b-918e-7dd754b830d7",
   "metadata": {},
   "outputs": [],
   "source": [
    "\"\"\"AES \"\"\"\n",
    "key = b'Sixteen byte key'"
   ]
  },
  {
   "cell_type": "code",
   "execution_count": 6,
   "id": "a5b57e59-f168-4f48-bf05-165a330e96b8",
   "metadata": {},
   "outputs": [],
   "source": [
    "\"\"\"Encrypts the AES encryption key\"\"\"\n",
    "rsa_cipher = PKCS1_OAEP.new(RSA.import_key(server_public_key))\n",
    "encrypted_key = rsa_cipher.encrypt(key)\n",
    "# print(encrypted_key)"
   ]
  },
  {
   "cell_type": "code",
   "execution_count": 7,
   "id": "9a655504-9721-44cc-b591-5f2147ee99a7",
   "metadata": {},
   "outputs": [],
   "source": [
    "message = {\n",
    "    \"foo\": \"bar\",\n",
    "    \"hello\": \"hello\",\n",
    "    \"random\": \"random\"\n",
    "}\n",
    "data_str = json.dumps(message)"
   ]
  },
  {
   "cell_type": "code",
   "execution_count": 8,
   "id": "909ee9d9-4c7e-4b39-854a-81dd0a97c2cd",
   "metadata": {},
   "outputs": [],
   "source": [
    "\"\"\"Encryption the message data\"\"\"\n",
    "cipher = AES.new(key, AES.MODE_CBC)\n",
    "ciphertext = cipher.encrypt(pad(data_str.encode(), AES.block_size))"
   ]
  },
  {
   "cell_type": "code",
   "execution_count": 9,
   "id": "2d7fa109-d790-4379-9f65-537de74dc84b",
   "metadata": {},
   "outputs": [],
   "source": [
    "request_data = {\n",
    "    \"message\" : str(base64.b64encode(ciphertext), 'utf-8'),\n",
    "    \"encrypted_key\" : str(base64.b64encode(encrypted_key), 'utf-8'),\n",
    "    \"initialization_vector\": str(base64.b64encode(cipher.iv), 'utf-8'), \n",
    "}\n"
   ]
  },
  {
   "cell_type": "code",
   "execution_count": 10,
   "id": "afc44205-f32b-447a-91d8-3c7ab53ce4b5",
   "metadata": {},
   "outputs": [],
   "source": [
    "response = requests.post(f\"{base_url}/message\", json=request_data)"
   ]
  },
  {
   "cell_type": "code",
   "execution_count": 11,
   "id": "71ff00f7-21c0-48a6-8637-53d0af91958d",
   "metadata": {},
   "outputs": [
    {
     "data": {
      "text/plain": [
       "{'foo': 'bar', 'hello': 'hello', 'random': 'random'}"
      ]
     },
     "execution_count": 11,
     "metadata": {},
     "output_type": "execute_result"
    }
   ],
   "source": [
    "response_dict = json.loads(response.json())\n",
    "\n",
    "\n",
    "response_dict\n"
   ]
  },
  {
   "cell_type": "code",
   "execution_count": 12,
   "id": "ad8be81e-c245-4799-bb69-2ad6155bf542",
   "metadata": {},
   "outputs": [
    {
     "name": "stdout",
     "output_type": "stream",
     "text": [
      "bar\n",
      "hello\n",
      "random\n"
     ]
    },
    {
     "data": {
      "text/plain": [
       "'random'"
      ]
     },
     "execution_count": 12,
     "metadata": {},
     "output_type": "execute_result"
    }
   ],
   "source": [
    "for x in message.keys():\n",
    "    print(response_dict[x])"
   ]
  }
 ],
 "metadata": {
  "kernelspec": {
   "display_name": "test",
   "language": "python",
   "name": "test"
  },
  "language_info": {
   "codemirror_mode": {
    "name": "ipython",
    "version": 3
   },
   "file_extension": ".py",
   "mimetype": "text/x-python",
   "name": "python",
   "nbconvert_exporter": "python",
   "pygments_lexer": "ipython3",
   "version": "3.10.9"
  }
 },
 "nbformat": 4,
 "nbformat_minor": 5
}
